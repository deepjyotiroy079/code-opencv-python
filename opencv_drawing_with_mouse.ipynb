{
 "cells": [
  {
   "cell_type": "code",
   "execution_count": 8,
   "metadata": {},
   "outputs": [],
   "source": [
    "import cv2\n",
    "import numpy as np\n",
    "\n",
    "################\n",
    "### Function ###\n",
    "################\n",
    "def draw_circle(event, x, y, flags, params):\n",
    "    \n",
    "    # check if the left mouse button is clicked\n",
    "    if event == cv2.EVENT_LBUTTONDOWN:\n",
    "        # draw a circle\n",
    "        cv2.circle(img, (x, y), radius=50, color=(0, 255, 0), thickness=-1)   \n",
    "    # check if the right mouse button is clicked\n",
    "    elif event == cv2.EVENT_RBUTTONDOWN:\n",
    "        # draw a circle\n",
    "        cv2.circle(img, (x, y), radius=50, color=(0, 0, 255), thickness=-1)\n",
    "    # check if middle mouse button is clicked\n",
    "    elif event == cv2.EVENT_MBUTTONDOWN:\n",
    "        # draw a circle\n",
    "        cv2.circle(img, (x, y), radius=50, color=(255, 0, 0), thickness=-1)\n",
    "\n",
    "# setting the window name\n",
    "cv2.namedWindow('Image')\n",
    "# attaching the function to the window\n",
    "cv2.setMouseCallback('Image', draw_circle)\n",
    "#####################\n",
    "### Showing image ###\n",
    "#####################\n",
    "\n",
    "# creating the blank image\n",
    "img = np.zeros((512, 512, 3), dtype=np.int8)\n",
    "\n",
    "while True:\n",
    "    \n",
    "    cv2.imshow('Image', img)\n",
    "    \n",
    "    if cv2.waitKey(1) & 0xFF == 27:\n",
    "        break\n",
    "        \n",
    "cv2.destroyAllWindows()"
   ]
  },
  {
   "cell_type": "code",
   "execution_count": null,
   "metadata": {},
   "outputs": [],
   "source": []
  },
  {
   "cell_type": "code",
   "execution_count": null,
   "metadata": {},
   "outputs": [],
   "source": []
  }
 ],
 "metadata": {
  "kernelspec": {
   "display_name": "Python 3",
   "language": "python",
   "name": "python3"
  },
  "language_info": {
   "codemirror_mode": {
    "name": "ipython",
    "version": 3
   },
   "file_extension": ".py",
   "mimetype": "text/x-python",
   "name": "python",
   "nbconvert_exporter": "python",
   "pygments_lexer": "ipython3",
   "version": "3.8.5"
  }
 },
 "nbformat": 4,
 "nbformat_minor": 4
}
